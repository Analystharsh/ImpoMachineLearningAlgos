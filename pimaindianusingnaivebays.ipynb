{
  "nbformat": 4,
  "nbformat_minor": 0,
  "metadata": {
    "colab": {
      "name": "pimaindianusingnaivebays.ipynb",
      "provenance": []
    },
    "kernelspec": {
      "name": "python3",
      "display_name": "Python 3"
    }
  },
  "cells": [
    {
      "cell_type": "code",
      "metadata": {
        "id": "MDTdUDPbjd4j",
        "colab_type": "code",
        "colab": {}
      },
      "source": [
        "import csv\n",
        "import math\n",
        "import random"
      ],
      "execution_count": 0,
      "outputs": []
    },
    {
      "cell_type": "code",
      "metadata": {
        "id": "IoV41MSBjysk",
        "colab_type": "code",
        "colab": {}
      },
      "source": [
        "def csvload(filename):\n",
        " lines =csv.reader(open(filename))\n",
        " dataset=list(lines)\n",
        " for i in range(len(dataset)):\n",
        "     dataset[i]=[float(x) for x in dataset[i]]\n",
        " return dataset\n",
        "   \n",
        "  "
      ],
      "execution_count": 0,
      "outputs": []
    },
    {
      "cell_type": "code",
      "metadata": {
        "id": "dZw05IUFlvgN",
        "colab_type": "code",
        "colab": {}
      },
      "source": [
        "def splitdataset(dataset,splitratio):\n",
        "  trainsize =int(len(dataset)*splitratio)\n",
        "  trainset = []\n",
        "  copy =list(dataset)\n",
        "  while len(trainset)<trainsize:\n",
        "    index =random.randrange(len(copy))\n",
        "    trainset.append(copy.pop(index))\n",
        "  return [trainset,copy]"
      ],
      "execution_count": 0,
      "outputs": []
    },
    {
      "cell_type": "code",
      "metadata": {
        "id": "_fof-Kbsp4RI",
        "colab_type": "code",
        "colab": {}
      },
      "source": [
        "def seperatedbyclass(dataset):\n",
        "  seperated={}\n",
        "  for i in range(len(dataset)):\n",
        "    vector =dataset[i]\n",
        "    if (vector[-1] not in seperated):\n",
        "      seperated[vector[-1]]=[]\n",
        "    seperated[vector[-1]].append(vector)\n",
        "  return seperated\n",
        "    "
      ],
      "execution_count": 0,
      "outputs": []
    },
    {
      "cell_type": "code",
      "metadata": {
        "id": "WatDfuc1k7fr",
        "colab_type": "code",
        "colab": {}
      },
      "source": [
        "def mean(numbers):\n",
        "  return sum(numbers)/float(len(numbers))"
      ],
      "execution_count": 0,
      "outputs": []
    },
    {
      "cell_type": "code",
      "metadata": {
        "id": "6NRm3EuClTPo",
        "colab_type": "code",
        "colab": {}
      },
      "source": [
        "def stdev(numbers):\n",
        "  avg=mean(numbers)\n",
        "  variance = sum([pow(x-avg,2) for x in numbers])/float(len(numbers)-1)\n",
        "  return math.sqrt(variance)"
      ],
      "execution_count": 0,
      "outputs": []
    },
    {
      "cell_type": "code",
      "metadata": {
        "id": "AUnQQFCayqd9",
        "colab_type": "code",
        "colab": {}
      },
      "source": [
        "def summarize(dataset):\n",
        "  summaries =[(mean(attribute),stdev(attribute)) for attribute in zip(*dataset)]\n",
        "  del summaries[-1]\n",
        "  return summaries"
      ],
      "execution_count": 0,
      "outputs": []
    },
    {
      "cell_type": "code",
      "metadata": {
        "id": "1GaFoe6oz-lW",
        "colab_type": "code",
        "colab": {}
      },
      "source": [
        "def summarizebyclass(dataset):\n",
        "  seperated =seperatedbyclass(dataset)\n",
        "  summaries={}\n",
        "  for classValue,instances in seperated.items():\n",
        "    summaries[classValue]=summarize(instances)\n",
        "  return summaries\n",
        "    "
      ],
      "execution_count": 0,
      "outputs": []
    },
    {
      "cell_type": "code",
      "metadata": {
        "id": "z3GC1BSpzdUB",
        "colab_type": "code",
        "colab": {}
      },
      "source": [
        "def calculateprobability(x,mean,stdev):\n",
        "  exponent=math.exp(-(math.pow(x-mean,2)/(2*math.pow(stdev,2))))\n",
        "  return (1/(math.sqrt(2*math.pi)*stdev))*exponent"
      ],
      "execution_count": 0,
      "outputs": []
    },
    {
      "cell_type": "code",
      "metadata": {
        "id": "QPEg89DQ2wdx",
        "colab_type": "code",
        "colab": {}
      },
      "source": [
        "def calculateclassprobability(summaries,inputvector):\n",
        "   probabilities={}\n",
        "   for classValue,classSummaries in summaries.items():\n",
        "      probabilities[classValue]=1\n",
        "      for i in range(len(classSummaries)):\n",
        "        mean,stdev=classSummaries[i]\n",
        "        x=inputvector[i]\n",
        "        probabilities[classValue]*=calculateprobability(x,mean,stdev)\n",
        "   return probabilities"
      ],
      "execution_count": 0,
      "outputs": []
    },
    {
      "cell_type": "code",
      "metadata": {
        "id": "TUE6n0FQ5uuL",
        "colab_type": "code",
        "colab": {}
      },
      "source": [
        "def predict(summaries,inputvector):\n",
        "  probabilities=calculateclassprobability(summaries,inputvector)\n",
        "  bestlabel,bestprob=None,-1\n",
        "  for classValue,probability in probabilities.items():\n",
        "      bestprob=probability\n",
        "      bestlabel=classValue\n",
        "  return bestlabel"
      ],
      "execution_count": 0,
      "outputs": []
    },
    {
      "cell_type": "code",
      "metadata": {
        "id": "C7RWPRj69ZBE",
        "colab_type": "code",
        "colab": {}
      },
      "source": [
        "def getprediction(summaries,testset):\n",
        "  predictions=[]\n",
        "  for i in range(len(testset)):\n",
        "    result=predict(summaries,testset[i])\n",
        "    predictions.append(result)\n",
        "  return predictions"
      ],
      "execution_count": 0,
      "outputs": []
    },
    {
      "cell_type": "code",
      "metadata": {
        "id": "e7iRVAeQ4MtL",
        "colab_type": "code",
        "colab": {}
      },
      "source": [
        "def getaccuracy(testset,predictions):\n",
        "   correct =0\n",
        "   for x in range(len(testset)):\n",
        "      if testset[x][-1]==predictions[x]:\n",
        "        correct+=1\n",
        "   return (correct/float(len(testset)))*100.0"
      ],
      "execution_count": 0,
      "outputs": []
    },
    {
      "cell_type": "code",
      "metadata": {
        "id": "fxlfIgJo-k0Q",
        "colab_type": "code",
        "colab": {
          "base_uri": "https://localhost:8080/",
          "height": 34
        },
        "outputId": "b2b17dfb-30cc-4659-da15-cb5c5b888ab1"
      },
      "source": [
        "def main():\n",
        "    filename =\"/content/pima-indians-diabetes.data.csv\"\n",
        "    splitratio=0.72\n",
        "    dataset=loadcsv(filename)\n",
        "    trainingset,testset=splitdataset(dataset,splitratio)\n",
        "    summaries=summarizebyclass(trainingset)\n",
        "    predictions=getprediction(summaries,testset)\n",
        "    accuracy=getaccuracy(testset,predictions)\n",
        "    print('Accuracy:{0}%'.format(accuracy))\n",
        "main()    \n"
      ],
      "execution_count": 182,
      "outputs": [
        {
          "output_type": "stream",
          "text": [
            "Accuracy:67.5925925925926%\n"
          ],
          "name": "stdout"
        }
      ]
    }
  ]
}